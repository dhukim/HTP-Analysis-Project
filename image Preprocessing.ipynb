{
 "cells": [
  {
   "cell_type": "code",
   "execution_count": 1,
   "metadata": {},
   "outputs": [],
   "source": [
    "import matplotlib.pyplot as plt\n",
    "import matplotlib.image as mpimg\n",
    "import numpy as np\n",
    "import pandas as pd\n",
    "import shutil\n",
    "\n",
    "from sklearn.model_selection import train_test_split"
   ]
  },
  {
   "cell_type": "code",
   "execution_count": 2,
   "metadata": {},
   "outputs": [],
   "source": [
    "house = [\"위치-집-정중앙\",\n",
    "        \"문-격자무늬 창\",\n",
    "        \"창문-창문을 가린 커튼\",\n",
    "        \"위치-집-아래\",\n",
    "        \"지붕-그물무늬 음영\",\n",
    "        \"지면선-벽 밑면 있지만 지면 없음\",\n",
    "        \"창문-많다\",\n",
    "        \"창문-격자무늬\"\n",
    "        ]"
   ]
  },
  {
   "cell_type": "code",
   "execution_count": 3,
   "metadata": {
    "scrolled": true
   },
   "outputs": [
    {
     "name": "stdout",
     "output_type": "stream",
     "text": [
      "error :  [3, 8, 9, 14, 16, 17, 18, 20, 24, 26, 28, 30, 33, 34, 36, 39, 40, 47, 49, 55, 56, 57, 58, 59, 61, 65, 67, 71, 72, 75, 77, 81, 82, 83, 84, 85, 88, 95, 97, 98, 99, 100, 103, 105, 110, 115, 120, 121, 125, 126, 127, 131, 133, 134, 135, 136, 138, 139, 141, 142, 143, 144, 146, 147, 148, 149, 150, 151, 153, 154, 155, 157, 158, 160, 164, 165, 168, 169, 170, 171, 172, 174, 175, 176, 179, 180, 181, 182, 183, 185, 191, 193, 195, 204, 205, 206, 210, 211, 212, 213, 215, 216, 217, 218, 221, 229, 230, 231, 232, 238, 241, 244, 245, 246, 247, 250, 251, 253, 254, 255, 257, 259, 266, 267, 269, 275, 277, 278, 279, 280, 281, 284, 285, 286, 289, 290, 291, 292, 293, 294, 302, 303, 304, 305, 309, 313, 314, 317, 320, 322, 324, 325, 326, 327, 328, 329, 330, 337, 338, 339, 341, 342, 343, 344, 345, 347, 348, 350, 354, 357, 359, 361, 363, 365, 366, 368, 369, 370, 371, 372, 375, 377, 382, 383, 384, 385, 386, 387, 392, 395, 398, 400, 401, 402, 403, 405, 406, 407, 408, 414, 418, 423, 427, 430, 437, 438, 439, 441, 442, 443, 450, 453, 454, 457, 458, 461, 462, 466, 470, 472, 473, 479, 484, 485, 489, 493, 499, 500, 504, 506, 507, 510, 515, 516, 517, 524, 531]\n"
     ]
    }
   ],
   "source": [
    "IMAGE_PATH = \"C:/Users/Administrator/data/467case_cut-20190916T015832Z-001/\"\n",
    "errors = []\n",
    "succ = []\n",
    "for i in range(1, 535):\n",
    "    try:\n",
    "        imgread = mpimg.imread(IMAGE_PATH + 'house/{0:0>4}_H.jpg'.format(i))\n",
    "        succ.append(i)\n",
    "#         shutil.move(IMAGE_PATH + '467case_cut/{0:0>4}_H.jpg'.format(i), IMAGE_PATH + '/house')  #파일 분류하기 위해서 사용\n",
    "#         plt.imshow(imgread)    #이미지 출력\n",
    "#         plt.show()\n",
    "    except FileNotFoundError:\n",
    "        #print('{0:0>4}_H.jpg'.format(i),'파일을 찾을 수 없습니다.')\n",
    "        errors.append(i)\n",
    "print(\"error : \", errors)"
   ]
  },
  {
   "cell_type": "code",
   "execution_count": 4,
   "metadata": {},
   "outputs": [
    {
     "name": "stdout",
     "output_type": "stream",
     "text": [
      "0    1\n",
      "1    2\n",
      "3    4\n",
      "4    5\n",
      "5    6\n",
      "Name: data, dtype: int64\n",
      "0    0001_H.jpg\n",
      "1    0002_H.jpg\n",
      "3    0004_H.jpg\n",
      "4    0005_H.jpg\n",
      "5    0006_H.jpg\n",
      "Name: data, dtype: object\n",
      "0    1\n",
      "1    2\n",
      "3    4\n",
      "4    5\n",
      "5    6\n",
      "Name: data, dtype: int64\n",
      "0    0001_H.jpg\n",
      "1    0002_H.jpg\n",
      "3    0004_H.jpg\n",
      "4    0005_H.jpg\n",
      "5    0006_H.jpg\n",
      "Name: data, dtype: object\n",
      "0    1\n",
      "1    2\n",
      "3    4\n",
      "4    5\n",
      "5    6\n",
      "Name: data, dtype: int64\n",
      "0    0001_H.jpg\n",
      "1    0002_H.jpg\n",
      "3    0004_H.jpg\n",
      "4    0005_H.jpg\n",
      "5    0006_H.jpg\n",
      "Name: data, dtype: object\n",
      "0    1\n",
      "1    2\n",
      "3    4\n",
      "4    5\n",
      "5    6\n",
      "Name: data, dtype: int64\n",
      "0    0001_H.jpg\n",
      "1    0002_H.jpg\n",
      "3    0004_H.jpg\n",
      "4    0005_H.jpg\n",
      "5    0006_H.jpg\n",
      "Name: data, dtype: object\n",
      "0    1\n",
      "1    2\n",
      "3    4\n",
      "4    5\n",
      "5    6\n",
      "Name: data, dtype: int64\n",
      "0    0001_H.jpg\n",
      "1    0002_H.jpg\n",
      "3    0004_H.jpg\n",
      "4    0005_H.jpg\n",
      "5    0006_H.jpg\n",
      "Name: data, dtype: object\n",
      "0    1\n",
      "1    2\n",
      "3    4\n",
      "4    5\n",
      "5    6\n",
      "Name: data, dtype: int64\n",
      "0    0001_H.jpg\n",
      "1    0002_H.jpg\n",
      "3    0004_H.jpg\n",
      "4    0005_H.jpg\n",
      "5    0006_H.jpg\n",
      "Name: data, dtype: object\n",
      "0    1\n",
      "1    2\n",
      "3    4\n",
      "4    5\n",
      "5    6\n",
      "Name: data, dtype: int64\n",
      "0    0001_H.jpg\n",
      "1    0002_H.jpg\n",
      "3    0004_H.jpg\n",
      "4    0005_H.jpg\n",
      "5    0006_H.jpg\n",
      "Name: data, dtype: object\n",
      "0    1\n",
      "1    2\n",
      "3    4\n",
      "4    5\n",
      "5    6\n",
      "Name: data, dtype: int64\n",
      "0    0001_H.jpg\n",
      "1    0002_H.jpg\n",
      "3    0004_H.jpg\n",
      "4    0005_H.jpg\n",
      "5    0006_H.jpg\n",
      "Name: data, dtype: object\n"
     ]
    }
   ],
   "source": [
    "EXCEL_PATH = \"C:/Users/Administrator/data/splitlabel/\"\n",
    "failedmatch = []\n",
    "for excelfile in house:\n",
    "    indexs = []\n",
    "    df = pd.read_excel(EXCEL_PATH+excelfile+'.xlsx')\n",
    "    df = df.rename(columns={'Unnamed: 0':'data'})\n",
    "    failedmatch = df['data']\n",
    "    for index in range(len(failedmatch)):\n",
    "        for error in errors:\n",
    "            if failedmatch[index] == error:\n",
    "                indexs.append(index)\n",
    "    indexs.reverse()\n",
    "    for index in indexs:\n",
    "        df = df.drop([index])\n",
    "    print(df['data'].head())\n",
    "    df['data'] = df.data.apply(lambda x: f'{x:0>4}'+'_H.jpg')\n",
    "    print(df['data'].head())\n",
    "    newdataframe = pd.DataFrame()\n",
    "    newdataframe = df\n",
    "    newdataframe.to_excel('C:/Users/Administrator/data/splitlabel/'+excelfile+'.xlsx')"
   ]
  },
  {
   "cell_type": "code",
   "execution_count": 8,
   "metadata": {},
   "outputs": [],
   "source": [
    "for excelfile in house:\n",
    "    df = pd.read_excel(EXCEL_PATH+excelfile+'.xlsx')\n",
    "    df = df.drop('Unnamed: 0', axis=1)\n",
    "    df[excelfile] = df[excelfile].astype('str')\n",
    "    df = df[['data', excelfile]]\n",
    "    y = df[excelfile]\n",
    "    its = np.arange(df.shape[0])\n",
    "    train_idx, test_idx = train_test_split(its, train_size = 0.8, random_state=42, stratify=y)\n",
    "    \n",
    "    train_set = df.iloc[train_idx, :]\n",
    "    test_set = df.iloc[test_idx, :]\n",
    "    \n",
    "    train_set.to_excel('C:/Users/Administrator/data/splitlabel/train_'+excelfile+'.xlsx')\n",
    "    test_set.to_excel('C:/Users/Administrator/data/splitlabel/test_'+excelfile+'.xlsx')"
   ]
  },
  {
   "cell_type": "code",
   "execution_count": null,
   "metadata": {},
   "outputs": [],
   "source": []
  }
 ],
 "metadata": {
  "kernelspec": {
   "display_name": "Python 3",
   "language": "python",
   "name": "python3"
  },
  "language_info": {
   "codemirror_mode": {
    "name": "ipython",
    "version": 3
   },
   "file_extension": ".py",
   "mimetype": "text/x-python",
   "name": "python",
   "nbconvert_exporter": "python",
   "pygments_lexer": "ipython3",
   "version": "3.7.3"
  }
 },
 "nbformat": 4,
 "nbformat_minor": 2
}
