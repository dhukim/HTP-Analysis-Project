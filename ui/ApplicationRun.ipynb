{
 "cells": [
  {
   "cell_type": "code",
   "execution_count": 2,
   "metadata": {},
   "outputs": [
    {
     "ename": "SystemExit",
     "evalue": "0",
     "output_type": "error",
     "traceback": [
      "An exception has occurred, use %tb to see the full traceback.\n",
      "\u001b[1;31mSystemExit\u001b[0m\u001b[1;31m:\u001b[0m 0\n"
     ]
    },
    {
     "name": "stderr",
     "output_type": "stream",
     "text": [
      "C:\\Users\\AFFINITY\\Anaconda3\\lib\\site-packages\\IPython\\core\\interactiveshell.py:3333: UserWarning: To exit: use 'exit', 'quit', or Ctrl-D.\n",
      "  warn(\"To exit: use 'exit', 'quit', or Ctrl-D.\", stacklevel=1)\n"
     ]
    }
   ],
   "source": [
    "import sys\n",
    "from PyQt5 import QtWidgets,uic\n",
    "from PyQt5.QtWidgets import *\n",
    "\n",
    "class Form(QtWidgets.QWidget):\n",
    "    def __init__(self, parent=None):\n",
    "        QtWidgets.QWidget.__init__(self, parent)\n",
    "        self.ui = uic.loadUi(\"application.ui\",self)\n",
    "        self.ui.show()\n",
    "        \n",
    "        \n",
    "    def fileopen1(self):\n",
    "        fname = QFileDialog.getOpenFileName(self)\n",
    "        self.HousePictureLinker.setText(fname[0])\n",
    "    \n",
    "    def fileopen2(self):\n",
    "        fname = QFileDialog.getOpenFileName(self)\n",
    "        self.TreePictureLinker.setText(fname[0])\n",
    "        \n",
    "    def fileopen3(self):\n",
    "        fname = QFileDialog.getOpenFileName(self)\n",
    "        self.PersonPictureLinker.setText(fname[0])\n",
    "        \n",
    "    def result(self):\n",
    "        house = self.HousePictureLinker.text()\n",
    "        tree = self.TreePictureLinker.text()\n",
    "        person = self.PersonPictureLinker.text()\n",
    "        \n",
    "        self.ResultWindow.setText(house+tree+person)\n",
    "if __name__ == '__main__':\n",
    "    app = QtWidgets.QApplication(sys.argv)\n",
    "    w = Form()\n",
    "    sys.exit(app.exec())"
   ]
  },
  {
   "cell_type": "code",
   "execution_count": null,
   "metadata": {},
   "outputs": [],
   "source": []
  }
 ],
 "metadata": {
  "kernelspec": {
   "display_name": "Python 3",
   "language": "python",
   "name": "python3"
  },
  "language_info": {
   "codemirror_mode": {
    "name": "ipython",
    "version": 3
   },
   "file_extension": ".py",
   "mimetype": "text/x-python",
   "name": "python",
   "nbconvert_exporter": "python",
   "pygments_lexer": "ipython3",
   "version": "3.7.3"
  }
 },
 "nbformat": 4,
 "nbformat_minor": 2
}
